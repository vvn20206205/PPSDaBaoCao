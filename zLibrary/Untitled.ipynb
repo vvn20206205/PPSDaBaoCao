{
 "cells": [
  {
   "cell_type": "code",
   "execution_count": 1,
   "id": "b79679dc",
   "metadata": {},
   "outputs": [
    {
     "name": "stdout",
     "output_type": "stream",
     "text": [
      "Nghia\n"
     ]
    }
   ],
   "source": [
    "import zTEST\n",
    "zTEST.Nghia()"
   ]
  }
 ],
 "metadata": {
  "kernelspec": {
   "display_name": "Python 3 (ipykernel)",
   "language": "python",
   "name": "python3"
  },
  "language_info": {
   "codemirror_mode": {
    "name": "ipython",
    "version": 3
   },
   "file_extension": ".py",
   "mimetype": "text/x-python",
   "name": "python",
   "nbconvert_exporter": "python",
   "pygments_lexer": "ipython3",
   "version": "3.10.7"
  }
 },
 "nbformat": 4,
 "nbformat_minor": 5
}
