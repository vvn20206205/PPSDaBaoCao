{
 "cells": [
  {
   "cell_type": "code",
   "execution_count": 1,
   "id": "3c122b14",
   "metadata": {},
   "outputs": [
    {
     "data": {
      "text/html": [
       "<h1 style=\"color: red;\">Hello Woyyyyyyyyyyrld</h1>"
      ],
      "text/plain": [
       "<IPython.core.display.HTML object>"
      ]
     },
     "execution_count": 1,
     "metadata": {},
     "output_type": "execute_result"
    }
   ],
   "source": [
    "from IPython.core.display import HTML\n",
    "HTML('<h1 style=\"color: red;\">Hello Woyyyyyyyyyyrld</h1>')"
   ]
  }
 ],
 "metadata": {
  "kernelspec": {
   "display_name": "Python 3.10.7 64-bit",
   "language": "python",
   "name": "python3"
  },
  "language_info": {
   "codemirror_mode": {
    "name": "ipython",
    "version": 3
   },
   "file_extension": ".py",
   "mimetype": "text/x-python",
   "name": "python",
   "nbconvert_exporter": "python",
   "pygments_lexer": "ipython3",
   "version": "3.10.7"
  },
  "vscode": {
   "interpreter": {
    "hash": "ebdd153cff9b413974a57af115aaf812ca6593c5cd1aa70e3475058a1d39755e"
   }
  }
 },
 "nbformat": 4,
 "nbformat_minor": 5
}
